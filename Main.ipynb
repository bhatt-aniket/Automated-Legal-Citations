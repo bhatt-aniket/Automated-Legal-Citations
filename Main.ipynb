{
 "cells": [
  {
   "cell_type": "code",
   "execution_count": 154,
   "metadata": {
    "scrolled": true
   },
   "outputs": [],
   "source": [
    "from bs4 import BeautifulSoup # BeautifulSoup is in bs4 package \n",
    "import requests\n",
    "URL = 'https://www.canlii.org/en/ca/scc/doc/1986/1986canlii46/1986canlii46.html'\n",
    "content = requests.get(URL)\n",
    "\n",
    "neutral_citation = BeautifulSoup(content.text, 'html.parser')"
   ]
  },
  {
   "cell_type": "code",
   "execution_count": 155,
   "metadata": {},
   "outputs": [
    {
     "name": "stdout",
     "output_type": "stream",
     "text": [
      "This case does not have a neutral citation\n"
     ]
    }
   ],
   "source": [
    "neutral_citation = str(neutral_citation.title).strip('<title>')\n",
    "neutral_citation = neutral_citation[:14]\n",
    "\n",
    "if neutral_citation[:5] > '1988':\n",
    "    splitted = neutral_citation.split()\n",
    "    a = ' '.join(splitted[0:3])\n",
    "    print(a)\n",
    "else:\n",
    "    print(\"This case does not have a neutral citation\")"
   ]
  },
  {
   "cell_type": "code",
   "execution_count": null,
   "metadata": {},
   "outputs": [],
   "source": []
  }
 ],
 "metadata": {
  "kernelspec": {
   "display_name": "Python 3",
   "language": "python",
   "name": "python3"
  },
  "language_info": {
   "codemirror_mode": {
    "name": "ipython",
    "version": 3
   },
   "file_extension": ".py",
   "mimetype": "text/x-python",
   "name": "python",
   "nbconvert_exporter": "python",
   "pygments_lexer": "ipython3",
   "version": "3.7.3"
  }
 },
 "nbformat": 4,
 "nbformat_minor": 2
}
